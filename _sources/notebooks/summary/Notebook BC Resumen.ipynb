{
 "cells": [
  {
   "attachments": {},
   "cell_type": "markdown",
   "metadata": {
    "tags": []
   },
   "source": [
    "<!-- # Proyecto Monitoreo Bancolombia - Informe Mensual -->\n",
    "\n",
    "# Resumen\n",
    "\n",
    "Septiembre de 2023"
   ]
  },
  {
   "attachments": {},
   "cell_type": "markdown",
   "metadata": {},
   "source": [
    "¡Hola!, te presentamos el informe correspondiente a tus consumos del mes de septiembre 2023. A continuación vas a encontrar un resumen de los consumos realizados de forma acumulada. Para esto encontrarás una serie de gráficas diseñadas para dar un vistazo a los consumos por sede. Finalmente, encontrarás un informe detallado para cada sede."
   ]
  },
  {
   "attachments": {},
   "cell_type": "markdown",
   "metadata": {
    "jp-MarkdownHeadingCollapsed": true,
    "tags": [
     "remove-cell"
    ]
   },
   "source": [
    "## Definitions\n"
   ]
  },
  {
   "cell_type": "code",
   "execution_count": null,
   "metadata": {
    "tags": [
     "remove-cell"
    ]
   },
   "outputs": [],
   "source": [
    "import pandas as pd\n",
    "import numpy as np\n",
    "import datetime as dt\n",
    "import json\n",
    "\n",
    "import plotly.io as pio\n",
    "import plotly.graph_objects as go\n",
    "import plotly.express as px\n",
    "import pyppdf.patch_pyppeteer\n",
    "\n",
    "pio.renderers.default = \"notebook\"\n",
    "pio.templates.default = \"plotly_white\"\n",
    "\n",
    "\n",
    "# this enables relative path imports\n",
    "import os\n",
    "from dotenv import load_dotenv\n",
    "load_dotenv()\n",
    "_PROJECT_PATH: str = os.environ[\"_project_path\"]\n",
    "_PICKLED_DATA_FILENAME: str = os.environ[\"_pickled_data_filename\"]\n",
    "\n",
    "import sys\n",
    "from pathlib import Path\n",
    "project_path = Path(_PROJECT_PATH)\n",
    "sys.path.append(str(project_path))\n",
    "\n",
    "import config_v2 as cfg\n",
    "\n",
    "from library_ubidots_v2 import Ubidots as ubi\n",
    "\n",
    "from library_report_v2 import Cleaning as cln\n",
    "from library_report_v2 import Graphing as grp\n",
    "from library_report_v2 import Processing as pro\n",
    "from library_report_v2 import Configuration as repcfg\n",
    "\n",
    "# import warnings\n",
    "# warnings.filterwarnings(\"ignore\")\n",
    "%load_ext autoreload\n",
    "%autoreload 2\n",
    "\n",
    "month_name = cfg.MONTH_NAME"
   ]
  },
  {
   "attachments": {},
   "cell_type": "markdown",
   "metadata": {
    "tags": [
     "remove-cell"
    ]
   },
   "source": [
    "## Preprocessing"
   ]
  },
  {
   "cell_type": "code",
   "execution_count": null,
   "metadata": {
    "tags": [
     "remove-cell"
    ]
   },
   "outputs": [],
   "source": [
    "df_info = pd.read_excel(project_path / 'tools' / \"AMH Sedes BC.xlsx\")\n",
    "\n",
    "info_rename = {\n",
    "    'Nombre en Ubidots':'device_name',\n",
    "    'ÁREA [m2]':'area',\n",
    "    'TARIFA [$/kWh]':'electricity_price',\n",
    "    '¿SUCURSAL AUTOMATIZADA?':'automated',\n",
    "    'CAPACIDAD AA [TR]':'hvac_capacity_kw',\n",
    "}\n",
    "df_info = df_info.rename(columns=info_rename)\n",
    "df_info = df_info.loc[:, list(info_rename.values())]\n",
    "df_info['automated'] = df_info['automated'].map({'Sí':True,'NO':False})\n",
    "\n"
   ]
  },
  {
   "cell_type": "code",
   "execution_count": null,
   "metadata": {
    "tags": [
     "remove-cell"
    ]
   },
   "outputs": [],
   "source": [
    "df = pd.read_pickle(project_path / 'data' / _PICKLED_DATA_FILENAME)\n",
    "\n",
    "# Legacy code (including the library) expects these column names\n",
    "# but the new Ubidots library returns more specific column names\n",
    "# so renaming is necessary. TODO: rework the Report library\n",
    "# so that it uses these more descriptive column names.\n",
    "df = df.rename(columns={'variable_label':'variable','device_label':'device',})\n",
    "\n",
    "df = df.sort_values(by=['variable','datetime'])\n",
    "df = pro.datetime_attributes(df)\n",
    "\n",
    "# Agrego esta linea codigo para quitar estas dos sedes que generar ruido por datos altos\n",
    "df = df[~df[\"device_name\"].isin([\"BC 829 - Unicentro Cali\", \"BC 454 - Quinta Avenida 2\"])]\n",
    "\n",
    "df_bl, df_st = pro.split_into_baseline_and_study(df, baseline=cfg.BASELINE, study=cfg.STUDY, inclusive='left')\n",
    "\n",
    "study_daterange = pd.Series(pd.date_range(start=cfg.STUDY[0], end=cfg.STUDY[1], freq='D'))\n"
   ]
  },
  {
   "cell_type": "code",
   "execution_count": null,
   "metadata": {
    "tags": [
     "remove-cell"
    ]
   },
   "outputs": [],
   "source": [
    "cargas = df_st[df_st[\"variable\"].isin(cfg.ENERGY_VAR_LABELS)]\n",
    "front = df_st[df_st[\"variable\"].isin(['front-consumo-activa'])]\n",
    "front_pot = df_st[df_st[\"variable\"].isin(['front-potencia-activa'])]\n",
    "front_reactiva = df_st[df_st[\"variable\"].isin(['consumo-energia-reactiva-total'])]\n",
    "cargas_pot = df_st[df_st[\"variable\"].isin(cfg.POWER_VAR_LABELS)]\n",
    "cargas_nocturne = cargas[cargas[\"hour\"].isin(cfg.NIGHT_HOURS)]"
   ]
  },
  {
   "cell_type": "code",
   "execution_count": null,
   "metadata": {
    "tags": [
     "remove-cell"
    ]
   },
   "outputs": [],
   "source": [
    "past_months = df_bl[df_bl[\"variable\"] == 'front-consumo-activa'].groupby(by=[\"variable\", \"device\", \"device_name\"]).resample('1M').sum().round(2).reset_index().set_index('datetime')\n",
    "past_months = pro.datetime_attributes(past_months)\n",
    "\n",
    "past_hour = df_bl[df_bl[\"variable\"] == 'front-consumo-activa'].groupby(by=[\"variable\", \"device\", \"device_name\"]).resample('1h').sum().round(2).reset_index().set_index('datetime')\n",
    "past_hour = pro.datetime_attributes(past_hour)\n",
    "\n",
    "cargas_month = cargas.groupby(by=[\"variable\", \"device\", \"device_name\"]).resample('1M').sum().round(2).reset_index().set_index('datetime')\n",
    "cargas_month = pro.datetime_attributes(cargas_month)\n",
    "\n",
    "cargas_day = cargas.groupby(by=[\"variable\", \"device\", \"device_name\"]).resample('1D').sum().round(2).reset_index().set_index('datetime')\n",
    "cargas_day = pro.datetime_attributes(cargas_day)\n",
    "\n",
    "cargas_hour = cargas.groupby(by=[\"variable\", \"device\", \"device_name\"]).resample('1h').sum().round(2).reset_index().set_index('datetime')\n",
    "cargas_hour = pro.datetime_attributes(cargas_hour)\n",
    "\n",
    "front_hour = front.groupby(by=[\"variable\", \"device\", \"device_name\"]).resample('1h').sum().round(2).reset_index().set_index('datetime')\n",
    "front_hour = pro.datetime_attributes(front_hour)\n",
    "\n",
    "front_month = front.groupby(by=[\"variable\", \"device\", \"device_name\"]).resample('1M').sum().round(2).reset_index().set_index('datetime')\n",
    "front_month = pro.datetime_attributes(front_month)\n",
    "\n",
    "front_day = front.groupby(by=[\"variable\", \"device\", \"device_name\"]).resample('1D').sum().round(2).reset_index().set_index('datetime')\n",
    "front_day = pro.datetime_attributes(front_day)\n",
    "\n",
    "front_reactiva_hour = front_reactiva.groupby(by=[\"variable\", \"device\", \"device_name\"]).resample('1h').sum().round(2).reset_index().set_index('datetime')\n",
    "front_reactiva_hour = pro.datetime_attributes(front_reactiva_hour)\n",
    "\n",
    "Cargas_Nocturne_day = cargas_nocturne.groupby(by=[\"variable\", \"device\", \"device_name\"]).resample('1D').sum().round(2).reset_index().set_index('datetime')\n",
    "Cargas_Nocturne_day = pro.datetime_attributes(Cargas_Nocturne_day)"
   ]
  },
  {
   "attachments": {},
   "cell_type": "markdown",
   "metadata": {},
   "source": [
    "## Resultados"
   ]
  },
  {
   "cell_type": "code",
   "execution_count": null,
   "metadata": {
    "tags": [
     "remove-cell"
    ]
   },
   "outputs": [],
   "source": [
    "front_tot = front_month[[\"value\",\"device_name\"]].reset_index(drop=True).set_index('device_name')\n",
    "front_tot[\"Consumo - MWh\"] = front_tot[\"value\"]/1000\n",
    "front_tot.drop([\"value\"], axis=1, inplace=True)\n",
    "front_tot.reset_index(inplace=True, drop=False)\n",
    "front_tot['Consumo - MWh'] = np.abs(front_tot['Consumo - MWh'])\n",
    "sizes = front_tot.sort_values(by='Consumo - MWh', ascending=False)\n"
   ]
  },
  {
   "cell_type": "code",
   "execution_count": null,
   "metadata": {
    "tags": [
     "remove-cell"
    ]
   },
   "outputs": [],
   "source": [
    "df_info_vs_cons = pd.merge(\n",
    "    front_tot,\n",
    "    df_info,\n",
    "    how='inner'\n",
    ")\n",
    "\n",
    "df_info_vs_cons['yearly_kwh_per_m2'] = 12* 1000 * df_info_vs_cons['Consumo - MWh'] / df_info_vs_cons['area']\n",
    "intensity = df_info_vs_cons[['device_name', 'yearly_kwh_per_m2']].sort_values(by='yearly_kwh_per_m2', ascending=False)"
   ]
  },
  {
   "cell_type": "code",
   "execution_count": null,
   "metadata": {
    "tags": [
     "remove-input"
    ]
   },
   "outputs": [],
   "source": [
    "sizes = sizes.query(\"device_name != 'BC 197 - Guatapuri'\")\n",
    "\n",
    "fig = px.bar(\n",
    "    sizes.round(2), \n",
    "    x=\"device_name\", \n",
    "    y=\"Consumo - MWh\", \n",
    "    labels={'Consumo - MWh':'Consumo [MWh]', 'device_name':'Sede'}, \n",
    "    title=\"Consumo de energía activa por sede [MWh]\"\n",
    "    )\n",
    "fig.show()"
   ]
  },
  {
   "cell_type": "code",
   "execution_count": null,
   "metadata": {
    "tags": [
     "remove-input"
    ]
   },
   "outputs": [],
   "source": [
    "fig = px.bar(\n",
    "    intensity.round(2), \n",
    "    x=\"device_name\", \n",
    "    y=\"yearly_kwh_per_m2\", \n",
    "    labels={'yearly_kwh_per_m2':'Intensidad', 'device_name':'Sede'}, \n",
    "    title=\"Intensidad del consumo por sede [kWh/m^2-año]\"\n",
    ")\n",
    "fig.show()"
   ]
  },
  {
   "attachments": {},
   "cell_type": "markdown",
   "metadata": {},
   "source": [
    "Un indicador ampliamente utilizado es el consumo anual por unidad de área.\n",
    "\n",
    "A continuación mostramos la distribución geográfica de las intensidades de consumo para las diferentes sedes."
   ]
  },
  {
   "cell_type": "code",
   "execution_count": null,
   "metadata": {
    "tags": [
     "remove-input"
    ]
   },
   "outputs": [],
   "source": [
    "df_devices = ubi.get_available_devices_v2('bancolombia', 'group', page_size=100)\n",
    "device_labels_with_data = list(set(df['device']))\n",
    "has_data = df_devices['device_label'].isin(device_labels_with_data)\n",
    "ids_with_data = list(df_devices.loc[has_data, 'device_id'])\n",
    "df_map = ubi.get_gps_for_multiple_device_id(ids_with_data)\n",
    "\n",
    "df_intensity = intensity.copy()\n",
    "df_intensity = df_intensity.rename(columns={'yearly_kwh_per_m2':'value'})\n",
    "\n",
    "df_map = pd.merge(\n",
    "    df_map,\n",
    "    # front_month[['device_name','value']],\n",
    "    df_intensity,\n",
    "    how='inner'\n",
    ")\n",
    "\n",
    "df_map = df_map.dropna(how='any')\n",
    "\n",
    "\n",
    "fig = go.Figure()\n",
    "fig.add_trace(go.Scattergeo(\n",
    "    lon = df_map[\"longitude\"],\n",
    "    lat = df_map[\"latitude\"],\n",
    "    text = df_map[\"device_name\"],\n",
    "    marker = dict(\n",
    "        size = df_map[\"value\"],\n",
    "        line_width=0.5,\n",
    "        sizemode = 'area'\n",
    "    )))\n",
    "\n",
    "\n",
    "fig.update_layout(\n",
    "    margin={\"r\":50,\"t\":50,\"l\":50,\"b\":50},\n",
    "    geo = go.layout.Geo(\n",
    "        resolution = 50,\n",
    "        scope = 'south america',\n",
    "        showframe = True,\n",
    "        showcoastlines = True,\n",
    "        landcolor = \"rgb(229, 229, 229)\",\n",
    "        countrycolor = \"white\" ,\n",
    "        coastlinecolor = \"white\",\n",
    "        projection_type = 'mercator',\n",
    "        lonaxis_range= [ -65.0, -85.0 ],\n",
    "        lataxis_range= [ -5.0, 13.0 ],\n",
    "        projection_scale=20))\n",
    "\n",
    "\n",
    "fig.update_layout(title_text=\"Mapa de intensidad de consumo [kWh/m^2-año]\", font_size=12,width=750,height=500)\n",
    "fig.show()"
   ]
  },
  {
   "attachments": {},
   "cell_type": "markdown",
   "metadata": {},
   "source": [
    "De las sedes monitoreadas las que presentan mayor intensidad de consumo son Paseo de la castellana, Centro Colón, San Mateo y Ventura plaza. También podemos notar que en general entre sedes cercanas hay intensidades de consumo similares."
   ]
  },
  {
   "cell_type": "code",
   "execution_count": null,
   "metadata": {
    "tags": [
     "remove-input"
    ]
   },
   "outputs": [],
   "source": [
    "fig = px.pie(sizes, values=\"Consumo - MWh\", names='device_name', hover_data=['Consumo - MWh'], labels={'Consumo - MWh'})\n",
    "fig.update_traces(textposition='inside', textinfo='percent', insidetextorientation='radial')\n",
    "\n",
    "fig.update(layout_showlegend=True)\n",
    "fig.update_layout(title_text=\"Diagrama de torta consumo de energía kWh\", font_size=12,width=750,height=550)\n",
    "fig.show()\n"
   ]
  },
  {
   "attachments": {},
   "cell_type": "markdown",
   "metadata": {},
   "source": [
    "La figura anterior es simplemente otra manera de visualizar la distribución del consumo. A continuación vemos la contribución de los equipos de climatización e iluminación al consumo en cada sede y al consumo agregado entre sedes."
   ]
  },
  {
   "cell_type": "code",
   "execution_count": null,
   "metadata": {
    "tags": [
     "remove-cell"
    ]
   },
   "outputs": [],
   "source": [
    "El_Cacique = front_month[front_month[\"device_name\"]==\"BC 78 - El Cacique\"][\"value\"]\n",
    "El_Cacique_cargas = cargas_month[cargas_month[\"device_name\"]==\"BC 78 - El Cacique\"]\n",
    "El_Cacique_ilu = El_Cacique_cargas[El_Cacique_cargas[\"variable\"]==\"ilu-consumo-activa\"][\"value\"]\n",
    "El_Cacique_aa = El_Cacique_cargas[El_Cacique_cargas[\"variable\"]==\"aa-consumo-activa\"][\"value\"]\n",
    "\n",
    "Girardot = front_month[front_month[\"device_name\"]==\"BC 659 - Girardot\"][\"value\"]\n",
    "Girardot_cargas = cargas_month[cargas_month[\"device_name\"]==\"BC 659 - Girardot\"]\n",
    "Girardot_ilu = Girardot_cargas[Girardot_cargas[\"variable\"]==\"ilu-consumo-activa\"][\"value\"]\n",
    "Girardot_aa = Girardot_cargas[Girardot_cargas[\"variable\"]==\"aa-consumo-activa\"][\"value\"]\n",
    "\n",
    "Ventura_plaza = front_month[front_month[\"device_name\"]==\"BC 824 - Ventura Plaza\"][\"value\"]\n",
    "Ventura_plaza_cargas = cargas_month[cargas_month[\"device_name\"]==\"BC 824 - Ventura Plaza\"]\n",
    "Ventura_plaza_ilu = Ventura_plaza_cargas[Ventura_plaza_cargas[\"variable\"]==\"ilu-consumo-activa\"][\"value\"]\n",
    "Ventura_plaza_aa = Ventura_plaza_cargas[Ventura_plaza_cargas[\"variable\"]==\"aa-consumo-activa\"][\"value\"]\n",
    "\n",
    "Banca_Colombia_Cartagena = front_month[front_month[\"device_name\"]==\"BC 210 - Banca Colombia Cartagena\"][\"value\"]\n",
    "Banca_Colombia_Cartagena_cargas = cargas_month[cargas_month[\"device_name\"]==\"BC 210 - Banca Colombia Cartagena\"]\n",
    "Banca_Colombia_Cartagena_ilu = Banca_Colombia_Cartagena_cargas[Banca_Colombia_Cartagena_cargas[\"variable\"]==\"ilu-consumo-activa\"][\"value\"]\n",
    "Banca_Colombia_Cartagena_aa = Banca_Colombia_Cartagena_cargas[Banca_Colombia_Cartagena_cargas[\"variable\"]==\"aa-consumo-activa\"][\"value\"]\n",
    "\n",
    "Bello = front_month[front_month[\"device_name\"]==\"BC 311 - Bello\"][\"value\"]\n",
    "Bello_cargas = cargas_month[cargas_month[\"device_name\"]==\"BC 311 - Bello\"]\n",
    "Bello_ilu = Bello_cargas[Bello_cargas[\"variable\"]==\"ilu-consumo-activa\"][\"value\"]\n",
    "Bello_aa = Bello_cargas[Bello_cargas[\"variable\"]==\"aa-consumo-activa\"][\"value\"]\n",
    "\n",
    "Cúcuta = front_month[front_month[\"device_name\"]==\"BC 88 - Cúcuta\"][\"value\"]\n",
    "Cúcuta_cargas = cargas_month[cargas_month[\"device_name\"]==\"BC 88 - Cúcuta\"]\n",
    "Cúcuta_ilu = Cúcuta_cargas[Cúcuta_cargas[\"variable\"]==\"ilu-consumo-activa\"][\"value\"]\n",
    "Cúcuta_aa = Cúcuta_cargas[Cúcuta_cargas[\"variable\"]==\"aa-consumo-activa\"][\"value\"]\n",
    "\n",
    "Barrancabermeja = front_month[front_month[\"device_name\"]==\"BC 306 - Barranquabermeja\"][\"value\"]\n",
    "Barrancabermeja_cargas = cargas_month[cargas_month[\"device_name\"]==\"BC 306 - Barranquabermeja\"]\n",
    "Barrancabermeja_ilu = Barrancabermeja_cargas[Barrancabermeja_cargas[\"variable\"]==\"ilu-consumo-activa\"][\"value\"]\n",
    "Barrancabermeja_aa = Barrancabermeja_cargas[Barrancabermeja_cargas[\"variable\"]==\"aa-consumo-activa\"][\"value\"]\n",
    "\n",
    "LLano_Grande_Palmira = front_month[front_month[\"device_name\"]==\"BC 185 - Llano Grande Palmira\"][\"value\"]\n",
    "LLano_Grande_Palmira_cargas = cargas_month[cargas_month[\"device_name\"]==\"BC 185 - Llano Grande Palmira\"]\n",
    "LLano_Grande_Palmira_ilu = LLano_Grande_Palmira_cargas[LLano_Grande_Palmira_cargas[\"variable\"]==\"ilu-consumo-activa\"][\"value\"]\n",
    "LLano_Grande_Palmira_aa = LLano_Grande_Palmira_cargas[LLano_Grande_Palmira_cargas[\"variable\"]==\"aa-consumo-activa\"][\"value\"]\n",
    "\n",
    "Palmira = front_month[front_month[\"device_name\"]==\"BC 66 - Palmira\"][\"value\"]\n",
    "Palmira_cargas = cargas_month[cargas_month[\"device_name\"]==\"BC 66 - Palmira\"]\n",
    "Palmira_ilu = Palmira_cargas[Palmira_cargas[\"variable\"]==\"ilu-consumo-activa\"][\"value\"]\n",
    "Palmira_aa = Palmira_cargas[Palmira_cargas[\"variable\"]==\"aa-consumo-activa\"][\"value\"]\n",
    "\n",
    "Villa_Colombia = front_month[front_month[\"device_name\"]==\"BC 205 - Villa Colombia\"][\"value\"]\n",
    "Villa_Colombia_cargas = cargas_month[cargas_month[\"device_name\"]==\"BC 205 - Villa Colombia\"]\n",
    "Villa_Colombia_ilu = Villa_Colombia_cargas[Villa_Colombia_cargas[\"variable\"]==\"ilu-consumo-activa\"][\"value\"]\n",
    "Villa_Colombia_aa = Villa_Colombia_cargas[Villa_Colombia_cargas[\"variable\"]==\"aa-consumo-activa\"][\"value\"]\n",
    "\n",
    "Los_Patios = front_month[front_month[\"device_name\"]==\"BC 863 - Los Patios\"][\"value\"]\n",
    "Los_Patios_cargas = cargas_month[cargas_month[\"device_name\"]==\"BC 863 - Los Patios\"]\n",
    "Los_Patios_ilu = Los_Patios_cargas[Los_Patios_cargas[\"variable\"]==\"ilu-consumo-activa\"][\"value\"]\n",
    "Los_Patios_aa = Los_Patios_cargas[Los_Patios_cargas[\"variable\"]==\"aa-consumo-activa\"][\"value\"]\n",
    "\n",
    "Jamundi = front_month[front_month[\"device_name\"]==\"BC 764 - Jamundí\"][\"value\"]\n",
    "Jamundi_cargas = cargas_month[cargas_month[\"device_name\"]==\"BC 764 - Jamundí\"]\n",
    "Jamundi_ilu = Jamundi_cargas[Jamundi_cargas[\"variable\"]==\"ilu-consumo-activa\"][\"value\"]\n",
    "Jamundi_aa = Jamundi_cargas[Jamundi_cargas[\"variable\"]==\"aa-consumo-activa\"][\"value\"]\n",
    "\n",
    "Honda = front_month[front_month[\"device_name\"]==\"BC 424 - Honda\"][\"value\"]\n",
    "Honda_cargas = cargas_month[cargas_month[\"device_name\"]==\"BC 424 - Honda\"]\n",
    "Honda_ilu = Honda_cargas[Honda_cargas[\"variable\"]==\"ilu-consumo-activa\"][\"value\"]\n",
    "Honda_aa = Honda_cargas[Honda_cargas[\"variable\"]==\"aa-consumo-activa\"][\"value\"]\n",
    "\n",
    "La_America = front_month[front_month[\"device_name\"]==\"BC 613 - La America\"][\"value\"]\n",
    "La_America_cargas = cargas_month[cargas_month[\"device_name\"]==\"BC 613 - La America\"]\n",
    "La_America_ilu = La_America_cargas[La_America_cargas[\"variable\"]==\"ilu-consumo-activa\"][\"value\"]\n",
    "La_America_aa = La_America_cargas[La_America_cargas[\"variable\"]==\"aa-consumo-activa\"][\"value\"]\n",
    "\n",
    "Guatapuri = front_month[front_month[\"device_name\"]==\"BC 197 - Guatapuri\"][\"value\"]\n",
    "Guatapuri_cargas = cargas_month[cargas_month[\"device_name\"]==\"BC 197 - Guatapuri\"]\n",
    "Guatapuri_ilu = Guatapuri_cargas[Guatapuri_cargas[\"variable\"]==\"ilu-consumo-activa\"][\"value\"]\n",
    "Guatapuri_aa = Guatapuri_cargas[Guatapuri_cargas[\"variable\"]==\"aa-consumo-activa\"][\"value\"]\n",
    "\n",
    "Lebrija = front_month[front_month[\"device_name\"]==\"BC 776 - Lebrija\"][\"value\"]\n",
    "Lebrija_cargas = cargas_month[cargas_month[\"device_name\"]==\"BC 776 - Lebrija\"]\n",
    "Lebrija_ilu = Lebrija_cargas[Lebrija_cargas[\"variable\"]==\"ilu-consumo-activa\"][\"value\"]\n",
    "Lebrija_aa = Lebrija_cargas[Lebrija_cargas[\"variable\"]==\"aa-consumo-activa\"][\"value\"]\n",
    "\n",
    "Paseo_del_comercio = front_month[front_month[\"device_name\"]==\"BC 792 - Paseo del comercio\"][\"value\"]\n",
    "Paseo_del_comercio_cargas = cargas_month[cargas_month[\"device_name\"]==\"BC 792 - Paseo del comercio\"]\n",
    "Paseo_del_comercio_ilu = Paseo_del_comercio_cargas[Paseo_del_comercio_cargas[\"variable\"]==\"ilu-consumo-activa\"][\"value\"]\n",
    "Paseo_del_comercio_aa = Paseo_del_comercio_cargas[Paseo_del_comercio_cargas[\"variable\"]==\"aa-consumo-activa\"][\"value\"]\n",
    "\n",
    "Carrera_primera = front_month[front_month[\"device_name\"]==\"BC 061 - Carrera Primera\"][\"value\"]\n",
    "Carrera_primera_cargas = cargas_month[cargas_month[\"device_name\"]==\"BC 061 - Carrera Primera\"]\n",
    "Carrera_primera_ilu = Carrera_primera_cargas[Carrera_primera_cargas[\"variable\"]==\"ilu-consumo-activa\"][\"value\"]\n",
    "Carrera_primera_aa = Carrera_primera_cargas[Carrera_primera_cargas[\"variable\"]==\"aa-consumo-activa\"][\"value\"]\n",
    "\n",
    "Iwanna = front_month[front_month[\"device_name\"]==\"BC 496 - Iwanna\"][\"value\"]\n",
    "Iwanna_cargas = cargas_month[cargas_month[\"device_name\"]==\"BC 496 - Iwanna\"]\n",
    "Iwanna_ilu = Iwanna_cargas[Iwanna_cargas[\"variable\"]==\"ilu-consumo-activa\"][\"value\"]\n",
    "Iwanna_aa = Iwanna_cargas[Iwanna_cargas[\"variable\"]==\"aa-consumo-activa\"][\"value\"]\n",
    "\n",
    "Pitalito = front_month[front_month[\"device_name\"]==\"BC 453 - Pitalito\"][\"value\"]\n",
    "Pitalito_cargas = cargas_month[cargas_month[\"device_name\"]==\"BC 453 - Pitalito\"]\n",
    "Pitalito_ilu = Pitalito_cargas[Pitalito_cargas[\"variable\"]==\"ilu-consumo-activa\"][\"value\"]\n",
    "Pitalito_aa = Pitalito_cargas[Pitalito_cargas[\"variable\"]==\"aa-consumo-activa\"][\"value\"]\n",
    "\n",
    "Giron = front_month[front_month[\"device_name\"]==\"BC 796 - Girón\"][\"value\"]\n",
    "Giron_cargas = cargas_month[cargas_month[\"device_name\"]==\"BC 796 - Girón\"]\n",
    "Giron_ilu = Giron_cargas[Giron_cargas[\"variable\"]==\"ilu-consumo-activa\"][\"value\"]\n",
    "Giron_aa = Giron_cargas[Giron_cargas[\"variable\"]==\"aa-consumo-activa\"][\"value\"]\n",
    "\n",
    "Piedecuesta = front_month[front_month[\"device_name\"]==\"BC 044 - Piedecuesta\"][\"value\"]\n",
    "Piedecuesta_cargas = cargas_month[cargas_month[\"device_name\"]==\"BC 044 - Piedecuesta\"]\n",
    "Piedecuesta_ilu = Piedecuesta_cargas[Piedecuesta_cargas[\"variable\"]==\"ilu-consumo-activa\"][\"value\"]\n",
    "Piedecuesta_aa = Piedecuesta_cargas[Piedecuesta_cargas[\"variable\"]==\"aa-consumo-activa\"][\"value\"]\n",
    "\n",
    "Floridablanca = front_month[front_month[\"device_name\"]==\"BC 799 - Floridablanca\"][\"value\"]\n",
    "Floridablanca_cargas = cargas_month[cargas_month[\"device_name\"]==\"BC 799 - Floridablanca\"]\n",
    "Floridablanca_ilu = Floridablanca_cargas[Floridablanca_cargas[\"variable\"]==\"ilu-consumo-activa\"][\"value\"]\n",
    "Floridablanca_aa = Floridablanca_cargas[Floridablanca_cargas[\"variable\"]==\"aa-consumo-activa\"][\"value\"]\n",
    "\n",
    "San_Mateo = front_month[front_month[\"device_name\"]==\"BC 834 - San Mateo\"][\"value\"]\n",
    "San_Mateo_cargas = cargas_month[cargas_month[\"device_name\"]==\"BC 834 - San Mateo\"]\n",
    "San_Mateo_ilu = San_Mateo_cargas[San_Mateo_cargas[\"variable\"]==\"ilu-consumo-activa\"][\"value\"]\n",
    "San_Mateo_aa = San_Mateo_cargas[San_Mateo_cargas[\"variable\"]==\"aa-consumo-activa\"][\"value\"]\n",
    "\n",
    "Campo_Alegre = front_month[front_month[\"device_name\"]==\"BC 459 - Campo Alegre\"][\"value\"]\n",
    "Campo_Alegre_cargas = cargas_month[cargas_month[\"device_name\"]==\"BC 459 - Campo Alegre\"]\n",
    "Campo_Alegre_ilu = Campo_Alegre_cargas[Campo_Alegre_cargas[\"variable\"]==\"ilu-consumo-activa\"][\"value\"]\n",
    "Campo_Alegre_aa = Campo_Alegre_cargas[Campo_Alegre_cargas[\"variable\"]==\"aa-consumo-activa\"][\"value\"]\n",
    "\n",
    "Paseo_de_la_castellana = front_month[front_month[\"device_name\"]==\"BC 678 - Paseo de la Castellana\"][\"value\"]\n",
    "Paseo_de_la_castellana_cargas = cargas_month[cargas_month[\"device_name\"]==\"BC 678 - Paseo de la Castellana\"]\n",
    "Paseo_de_la_castellana_ilu = Paseo_de_la_castellana_cargas[Paseo_de_la_castellana_cargas[\"variable\"]==\"ilu-consumo-activa\"][\"value\"]\n",
    "Paseo_de_la_castellana_aa = Paseo_de_la_castellana_cargas[Paseo_de_la_castellana_cargas[\"variable\"]==\"aa-consumo-activa\"][\"value\"]\n",
    "\n",
    "Calima = front_month[front_month[\"device_name\"]==\"BC 741 - Calima\"][\"value\"]\n",
    "Calima_cargas = cargas_month[cargas_month[\"device_name\"]==\"BC 741 - Calima\"]\n",
    "Calima_ilu = Calima_cargas[Calima_cargas[\"variable\"]==\"ilu-consumo-activa\"][\"value\"]\n",
    "Calima_aa = Calima_cargas[Calima_cargas[\"variable\"]==\"aa-consumo-activa\"][\"value\"]\n",
    "\n",
    "El_Bosque = front_month[front_month[\"device_name\"]==\"BC 495 - El Bosque\"][\"value\"]\n",
    "El_Bosque_cargas = cargas_month[cargas_month[\"device_name\"]==\"BC 495 - El Bosque\"]\n",
    "El_Bosque_ilu = El_Bosque_cargas[El_Bosque_cargas[\"variable\"]==\"ilu-consumo-activa\"][\"value\"]\n",
    "El_Bosque_aa = El_Bosque_cargas[El_Bosque_cargas[\"variable\"]==\"aa-consumo-activa\"][\"value\"]\n",
    "\n",
    "Santa_Monica = front_month[front_month[\"device_name\"]==\"BC 749 - Santa Monica\"][\"value\"]\n",
    "Santa_Monica_cargas = cargas_month[cargas_month[\"device_name\"]==\"BC 749 - Santa Monica\"]\n",
    "Santa_Monica_ilu = Santa_Monica_cargas[Santa_Monica_cargas[\"variable\"]==\"ilu-consumo-activa\"][\"value\"]\n",
    "Santa_Monica_aa = Santa_Monica_cargas[Santa_Monica_cargas[\"variable\"]==\"aa-consumo-activa\"][\"value\"]\n",
    "\n",
    "\n",
    "Las_Palmas = front_month[front_month[\"device_name\"]==\"BC 291 - Las Palmas\"][\"value\"]\n",
    "Las_Palmas_cargas = cargas_month[cargas_month[\"device_name\"]==\"BC 291 - Las Palmas\"]\n",
    "Las_Palmas_ilu = Las_Palmas_cargas[Las_Palmas_cargas[\"variable\"]==\"ilu-consumo-activa\"][\"value\"]\n",
    "Las_Palmas_aa = Las_Palmas_cargas[Las_Palmas_cargas[\"variable\"]==\"aa-consumo-activa\"][\"value\"]\n",
    "\n",
    "Megamall = front_month[front_month[\"device_name\"]==\"BC 90 - Megamall\"][\"value\"]\n",
    "Megamall_cargas = cargas_month[cargas_month[\"device_name\"]==\"BC 90 - Megamall\"]\n",
    "Megamall_ilu = Megamall_cargas[Megamall_cargas[\"variable\"]==\"ilu-consumo-activa\"][\"value\"]\n",
    "Megamall_aa = Megamall_cargas[Megamall_cargas[\"variable\"]==\"aa-consumo-activa\"][\"value\"]"
   ]
  },
  {
   "cell_type": "code",
   "execution_count": null,
   "metadata": {
    "tags": [
     "remove-input"
    ]
   },
   "outputs": [],
   "source": [
    "fig = go.Figure(data=[go.Sankey(\n",
    "    node = {'pad': 15,\n",
    "            'thickness': 15,\n",
    "            'line': {'color': 'black', 'width': 0.5},\n",
    "            'label': ['Consumo total (kWh)',\n",
    "                      'BC 78 - El Cacique',               \n",
    "                      'BC 659 - Girardot',                \n",
    "                      'BC 824 - Ventura Plaza',           \n",
    "                      'BC 210 - Banca Colombia Cartagena',\n",
    "                      'BC 311 - Bello',                   \n",
    "                      'BC 88 - Cúcuta',                   \n",
    "                      'BC 306 - Barrancabermeja',         \n",
    "                      'BC 185 - Llano Grande Palmira',    \n",
    "                      'BC 66 - Palmira',                  \n",
    "                      'BC 205 - Villa Colombia',          \n",
    "                      'BC 863 - Los Patios',              \n",
    "                      'BC 764 - Jamundí',                 \n",
    "                      'BC 424 - Honda',                   \n",
    "                      'BC 613 - La America',              \n",
    "                     #'BC 197 - Guatapuri',               \n",
    "                      'BC 776 - Lebrija',                 \n",
    "                      'BC 792 - Paseo del comercio',      \n",
    "                      'BC 061 - Carrera Primera',         \n",
    "                      'BC 496 - Iwanna',                  \n",
    "                      'BC 453 - Pitalito',                \n",
    "                      'BC 796 - Girón',                   \n",
    "                      'BC 044 - Piedecuesta',             \n",
    "                      'BC 799 - Floridablanca',           \n",
    "                      'BC 834 - San Mateo',               \n",
    "                      'BC 459 - Campo Alegre',            \n",
    "                      'BC 678 - Paseo de la Castellana',  \n",
    "                      'BC 741 - Calima',                  \n",
    "                      'BC 495 - El Bosque',               \n",
    "                      'BC 749 - Santa Monica',            \n",
    "                      'BC 291 - Las Palmas',              \n",
    "                      'BC 90 - Megamall',\n",
    "                      'AA',\n",
    "                      'ILU']},\n",
    "\n",
    "      link = {\n",
    "            'source':  [0,0,0,0,0,0,0,0,0,0 ,0 ,0 ,0 ,0 ,0 ,0 ,0 ,0 ,0 ,0 ,0 ,0 ,0 ,0 ,0 ,0 ,0 ,0 ,0 ,0 ,0,\n",
    "                        1,1,2,2,3,3,4,4,5,5,6,6,7,7,8,8,9,9,10,10,11,11,12,12,13,13,14,14,15,15,16,16,17,17,18,18,19,19,20,20,21,21,22,22,23,23,24,24,25,25,26,26,27,27,28,28,29,29,30,30,31,31], \n",
    "\n",
    "\n",
    "            'target':  [1,2,3,4,5,6,7,8,9,10,11,12,13,14,15,16,17,18,19,20,21,22,23,24,25,26,27,28,29,30,31,\n",
    "                        32,33,32,33,32,33,32,33,32,33,32,33,32,33,32,33,32,33,32,33,32,33,32,33,32,33,32,33,32,33,32,33,32,33,32,33,32,33,32,33,32,33,32,33,32,33,32,33,32,33,32,33,32,33,32,33,32,33,32,33,32,33],\n",
    "\n",
    "            'value':   [El_Cacique,\n",
    "                        Girardot,\n",
    "                        Ventura_plaza,\n",
    "                        Banca_Colombia_Cartagena,\n",
    "                        Bello,\n",
    "                        Cúcuta,\n",
    "                        Barrancabermeja,\n",
    "                        LLano_Grande_Palmira,\n",
    "                        Palmira,\n",
    "                        Villa_Colombia,\n",
    "                        Los_Patios,\n",
    "                        Jamundi,\n",
    "                        Honda,\n",
    "                        La_America,\n",
    "                        Guatapuri,\n",
    "                        Lebrija,\n",
    "                        Paseo_del_comercio,\n",
    "                        Carrera_primera,\n",
    "                        Iwanna,\n",
    "                        Pitalito,\n",
    "                        Giron,\n",
    "                        Piedecuesta,\n",
    "                        Floridablanca,\n",
    "                        San_Mateo,\n",
    "                        Campo_Alegre,\n",
    "                        Paseo_de_la_castellana,\n",
    "                        Calima,\n",
    "                        El_Bosque,\n",
    "                        Santa_Monica,\n",
    "                        Las_Palmas,\n",
    "                        Megamall,\n",
    "\n",
    "                        El_Cacique_aa,\n",
    "                        El_Cacique_ilu,\n",
    "                        Girardot_aa,\n",
    "                        Girardot_ilu,\n",
    "                        Ventura_plaza_aa,\n",
    "                        Ventura_plaza_ilu,\n",
    "                        Banca_Colombia_Cartagena_aa,\n",
    "                        Banca_Colombia_Cartagena_ilu,\n",
    "                        Bello_ilu,\n",
    "                        Bello_aa,\n",
    "                        Cúcuta_aa,\n",
    "                        Cúcuta_ilu,\n",
    "                        Barrancabermeja_aa,\n",
    "                        Barrancabermeja_ilu,\n",
    "                        LLano_Grande_Palmira_aa,\n",
    "                        LLano_Grande_Palmira_ilu,\n",
    "                        Palmira_aa,\n",
    "                        Palmira_ilu,\n",
    "                        Villa_Colombia_aa,\n",
    "                        Villa_Colombia_ilu,\n",
    "                        Los_Patios_aa,\n",
    "                        Los_Patios_ilu,\n",
    "                        Jamundi_aa,\n",
    "                        Jamundi_ilu,\n",
    "                        Honda_aa,\n",
    "                        Honda_ilu,\n",
    "                        La_America_aa,\n",
    "                        La_America_ilu,\n",
    "                        Guatapuri_aa,\n",
    "                        Guatapuri_ilu,\n",
    "                        Lebrija_aa,\n",
    "                        Lebrija_ilu,\n",
    "                        Paseo_del_comercio_aa,\n",
    "                        Paseo_del_comercio_ilu,\n",
    "                        Carrera_primera_aa,\n",
    "                        Carrera_primera_ilu,\n",
    "                        Iwanna_aa,\n",
    "                        Iwanna_ilu,\n",
    "                        Pitalito_aa,\n",
    "                        Pitalito_ilu,\n",
    "                        Giron_aa,\n",
    "                        Giron_ilu,\n",
    "                        Piedecuesta_aa,\n",
    "                        Piedecuesta_ilu,\n",
    "                        Floridablanca_aa,\n",
    "                        Floridablanca_ilu,\n",
    "                        San_Mateo_aa,\n",
    "                        San_Mateo_ilu,\n",
    "                        Campo_Alegre_aa,\n",
    "                        Campo_Alegre_ilu,\n",
    "                        Paseo_de_la_castellana_aa,\n",
    "                        Paseo_de_la_castellana_ilu,\n",
    "                        Calima_aa,\n",
    "                        Calima_ilu,\n",
    "                        El_Bosque_aa,\n",
    "                        El_Bosque_ilu,\n",
    "                        Santa_Monica_aa,\n",
    "                        Santa_Monica_ilu,\n",
    "                        Las_Palmas_aa,\n",
    "                        Las_Palmas_ilu,\n",
    "                        Megamall_aa,\n",
    "                        Megamall_ilu\n",
    "                       ]},\n",
    ")])\n",
    "\n",
    "fig.update_layout(title_text=\"Diagrama Sankey consumo de energía kWh\", font_size=12,width=750,height=500)"
   ]
  },
  {
   "attachments": {},
   "cell_type": "markdown",
   "metadata": {},
   "source": [
    "Te invitamos a validar el comportamiento de cada sede a detalle en las siguientes páginas."
   ]
  }
 ],
 "metadata": {
  "kernelspec": {
   "display_name": "nuevo2-env",
   "language": "python",
   "name": "python3"
  },
  "language_info": {
   "codemirror_mode": {
    "name": "ipython",
    "version": 3
   },
   "file_extension": ".py",
   "mimetype": "text/x-python",
   "name": "python",
   "nbconvert_exporter": "python",
   "pygments_lexer": "ipython3",
   "version": "3.9.16"
  },
  "vscode": {
   "interpreter": {
    "hash": "a3ed1408207adb65ea76cc73f6a4a844ab927e5dee5cd8790bd3d1eac84bb653"
   }
  }
 },
 "nbformat": 4,
 "nbformat_minor": 4
}
