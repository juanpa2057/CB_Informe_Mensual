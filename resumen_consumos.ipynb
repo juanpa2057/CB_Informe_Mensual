{
 "cells": [
  {
   "cell_type": "code",
   "execution_count": 1,
   "metadata": {},
   "outputs": [],
   "source": [
    "DEVICE_NAME = { 'BC 044 - Piedecuesta',\n",
    " 'BC 061 - Carrera Primera',\n",
    " 'BC 185 - Llano Grande Palmira',\n",
    " 'BC 197 - Guatapuri',\n",
    " 'BC 205 - Villa Colombia',\n",
    " 'BC 210 - Banca Colombia Cartagena',\n",
    " 'BC 216 - Sabana de Torres',\n",
    " 'BC 253 - Puerta del Norte',\n",
    " 'BC 291 - Las Palmas',\n",
    " 'BC 302 - Quebrada Seca',\n",
    " 'BC 306 - Barrancabermeja',\n",
    " 'BC 311 - Bello',\n",
    " 'BC 371 - Caucasia',\n",
    " 'BC 398 - Mariquita',\n",
    " 'BC 424 - Honda',\n",
    " 'BC 453 - Pitalito',\n",
    " 'BC 454 - Quinta Avenida 2',\n",
    " 'BC 459 - Campo Alegre',\n",
    " 'BC 495 - El Bosque',\n",
    " 'BC 496 - Iwanna',\n",
    " 'BC 514 - Centro Comercial Único',\n",
    " 'BC 523 - Olímpica',\n",
    " 'BC 524 - S.A. Valledupar',\n",
    " 'BC 534 - Buganviles',\n",
    " 'BC 613 - La America',\n",
    " 'BC 656 - Mayales',\n",
    " 'BC 659 - Girardot',\n",
    " 'BC 66 - Palmira',\n",
    " 'BC 678 - Paseo de la Castellana',\n",
    " 'BC 705 - El Bagre',\n",
    " 'BC 749 - Santa Monica',\n",
    " 'BC 750 - Roosevelt',\n",
    " 'BC 764 - Jamundí',\n",
    " 'BC 776 - Lebrija',\n",
    " 'BC 78 - El Cacique',\n",
    " 'BC 784 - Centro Colon',\n",
    " 'BC 787 - Bocagrande Carrera Tercera',\n",
    " 'BC 789 - Manga',\n",
    " 'BC 792 - Paseo del comercio',\n",
    " 'BC 793 - Profesionales',\n",
    " 'BC 796 - Girón',\n",
    " 'BC 799 - Floridablanca',\n",
    " 'BC 816 - Calle 10',\n",
    " 'BC 821 GRANADA CALI',\n",
    " 'BC 824 - Ventura Plaza',\n",
    " 'BC 825 - Astrocentro',\n",
    " 'BC 829 - Unicentro Cali',\n",
    " 'BC 834 - San Mateo',\n",
    " 'BC 863 - Los Patios',\n",
    " 'BC 88 - Cúcuta',\n",
    " 'BC 90 - Megamall'}\n",
    "\n",
    "\n",
    "label = {\"aa-consumo-activa\", \"front-consumo-activa\"}"
   ]
  },
  {
   "cell_type": "code",
   "execution_count": 2,
   "metadata": {},
   "outputs": [],
   "source": [
    "import warnings\n",
    "warnings.filterwarnings(\"ignore\")\n",
    "\n",
    "import pandas as pd\n",
    "import numpy as np\n",
    "import datetime as dt\n",
    "import json\n",
    "import locale\n",
    "import plotly.io as pio\n",
    "import plotly.graph_objects as go\n",
    "import plotly.express as px\n",
    "import pyppdf.patch_pyppeteer\n",
    "\n",
    "pio.renderers.default = \"notebook\"\n",
    "pio.templates.default = \"plotly_white\"\n",
    "\n",
    "\n",
    "# this enables relative path imports\n",
    "import os\n",
    "from dotenv import load_dotenv\n",
    "load_dotenv()\n",
    "_PROJECT_PATH: str = os.environ[\"_project_path\"]\n",
    "_PICKLED_DATA_FILENAME: str = os.environ[\"_pickled_data_filename\"]\n",
    "\n",
    "import sys\n",
    "from pathlib import Path\n",
    "project_path = Path(_PROJECT_PATH)\n",
    "sys.path.append(str(project_path))\n",
    "\n",
    "import config_v2 as cfg\n",
    "\n",
    "from library_report_v2 import Cleaning as cln\n",
    "from library_report_v2 import Graphing as grp\n",
    "from library_report_v2 import Processing as pro\n",
    "from library_report_v2 import Configuration as repcfg"
   ]
  },
  {
   "cell_type": "code",
   "execution_count": 3,
   "metadata": {},
   "outputs": [],
   "source": [
    "def show_response_contents(df):\n",
    "    print(\"The response contains:\")\n",
    "    print(json.dumps(list(df['variable'].unique()), sort_keys=True, indent=4))\n",
    "    print(json.dumps(list(df['device'].unique()), sort_keys=True, indent=4))\n",
    "\n",
    "month_name = cfg.MONTH_NAME"
   ]
  },
  {
   "cell_type": "code",
   "execution_count": 5,
   "metadata": {},
   "outputs": [],
   "source": [
    "df_info = pd.read_excel(project_path / 'tools' / \"AMH Sedes BC.xlsx\")\n",
    "\n",
    "df = pd.read_pickle(project_path / 'data' / _PICKLED_DATA_FILENAME)\n",
    "#df = df.query(\"device_name == DEVICE_NAME\")"
   ]
  },
  {
   "cell_type": "code",
   "execution_count": 6,
   "metadata": {},
   "outputs": [
    {
     "name": "stdout",
     "output_type": "stream",
     "text": [
      "The response contains:\n",
      "[\n",
      "    \"front-consumo-activa\",\n",
      "    \"aa-consumo-activa\"\n",
      "]\n",
      "[\n",
      "    \"bc14\",\n",
      "    \"bc45\",\n",
      "    \"bc71\",\n",
      "    \"bc2\",\n",
      "    \"bc60\",\n",
      "    \"bc---floridablanca\",\n",
      "    \"bc30\",\n",
      "    \"bc44\",\n",
      "    \"bc56\",\n",
      "    \"bc33\",\n",
      "    \"bc-santa-monica\",\n",
      "    \"bc41\",\n",
      "    \"bc35\",\n",
      "    \"bc57\",\n",
      "    \"bc11\",\n",
      "    \"bc01-iluminacion-girardot\",\n",
      "    \"bc---s.a.-valledupar\",\n",
      "    \"bc-291-las-palmas\",\n",
      "    \"bc12\",\n",
      "    \"bc21\",\n",
      "    \"bc10\",\n",
      "    \"bc-megamall\",\n",
      "    \"bc8\",\n",
      "    \"bc31\",\n",
      "    \"bc16\",\n",
      "    \"bc32\",\n",
      "    \"bc54\",\n",
      "    \"bc26\",\n",
      "    \"bc58t\",\n",
      "    \"bc---s.a.-granada\",\n",
      "    \"bc4\",\n",
      "    \"bc38\",\n",
      "    \"bc50t\",\n",
      "    \"bc46\",\n",
      "    \"bc65\",\n",
      "    \"bc64\",\n",
      "    \"bc42\",\n",
      "    \"bc43\",\n",
      "    \"bc71-2\",\n",
      "    \"bc18\",\n",
      "    \"bc27\",\n",
      "    \"bc40\",\n",
      "    \"bc36\",\n",
      "    \"bc61\",\n",
      "    \"bc15\",\n",
      "    \"bc-816-1---calle-10\",\n",
      "    \"bc7\",\n",
      "    \"bc49\",\n",
      "    \"gateway-1-bc-uc\",\n",
      "    \"bc37\",\n",
      "    \"bc6\"\n",
      "]\n"
     ]
    }
   ],
   "source": [
    "df_info = pd.read_excel(project_path / 'tools' / \"AMH Sedes BC.xlsx\")\n",
    "\n",
    "df = pd.read_pickle(project_path / 'data' / _PICKLED_DATA_FILENAME)\n",
    "#df = df.query(\"device_name == DEVICE_NAME\")\n",
    "df = df[df['variable'].isin(label)]\n",
    "\n",
    "# Legacy code (including the library) expects these column names\n",
    "# but the new Ubidots library returns more specific column names\n",
    "# so renaming is necessary. TODO: rework the Report library\n",
    "# so that it uses these more descriptive column names.\n",
    "df = df.rename(columns={'variable_label':'variable','device_label':'device',})\n",
    "\n",
    "show_response_contents(df)"
   ]
  },
  {
   "cell_type": "code",
   "execution_count": 15,
   "metadata": {},
   "outputs": [],
   "source": [
    "df = df.sort_values(by=['variable','datetime'])\n",
    "df = pro.datetime_attributes(df)\n",
    "\n",
    "df_bl, df_st = pro.split_into_baseline_and_study(df, baseline=cfg.BASELINE, study=cfg.STUDY, inclusive='left')\n",
    "\n",
    "study_daterange = pd.Series(pd.date_range(start=cfg.STUDY[0], end=cfg.STUDY[1], freq='D'))\n",
    "\n",
    "cargas = df_st[df_st[\"variable\"].isin(cfg.ENERGY_VAR_LABELS)].copy()\n",
    "front = df_st[df_st[\"variable\"].isin(['front-consumo-activa'])].copy()\n",
    "\n",
    "cargas = cln.remove_outliers_by_zscore(cargas, zscore=4)\n",
    "front = cln.remove_outliers_by_zscore(front, zscore=4)"
   ]
  },
  {
   "cell_type": "code",
   "execution_count": 26,
   "metadata": {},
   "outputs": [],
   "source": [
    "cargas_hour = cargas.groupby(by=[\"variable\",'device_name']).resample('1h').sum().round(2).reset_index().set_index('datetime')\n",
    "cargas_hour = pro.datetime_attributes(cargas_hour)\n",
    "\n",
    "cargas_day = cargas.groupby(by=[\"variable\",'device_name']).resample('1D').sum().reset_index().set_index('datetime')\n",
    "cargas_day = pro.datetime_attributes(cargas_day)\n",
    "\n",
    "cargas_month = cargas.groupby(by=[\"variable\",'device_name']).resample('1M').sum().reset_index().set_index('datetime')\n",
    "cargas_month = pro.datetime_attributes(cargas_month)\n",
    "\n",
    "front_hour = front.groupby(by=[\"variable\",'device_name']).resample('1h').sum().round(2).reset_index().set_index('datetime')\n",
    "front_hour = pro.datetime_attributes(front_hour)\n",
    "\n",
    "front_day = front.groupby(by=[\"variable\",'device_name']).resample('1D').sum().reset_index().set_index('datetime')\n",
    "front_day = pro.datetime_attributes(front_day)\n",
    "\n",
    "front_month = front.groupby(by=[\"variable\",'device_name']).resample('1M').sum().reset_index().set_index('datetime')\n",
    "front_month = pro.datetime_attributes(front_month)\n"
   ]
  },
  {
   "cell_type": "code",
   "execution_count": 51,
   "metadata": {},
   "outputs": [],
   "source": [
    "front_month_x2 = front_month.loc[:,(\"variable\",\"device_name\",\"value\",\"month\")]\n",
    "front_month_x2['value'] = front_month_x2['value'].round(2) "
   ]
  },
  {
   "cell_type": "code",
   "execution_count": 61,
   "metadata": {},
   "outputs": [],
   "source": [
    "df_front_cargas = pd.concat([front, cargas])\n",
    "cargas_nighttime_cons = df_front_cargas[df_front_cargas[\"hour\"].isin(cfg.NIGHT_HOURS)].copy()"
   ]
  },
  {
   "cell_type": "code",
   "execution_count": null,
   "metadata": {},
   "outputs": [],
   "source": [
    "front_month = front.groupby(by=[\"variable\",'device_name']).resample('1M').sum().reset_index().set_index('datetime')\n",
    "front_month = pro.datetime_attributes(front_month)"
   ]
  },
  {
   "cell_type": "code",
   "execution_count": 88,
   "metadata": {},
   "outputs": [],
   "source": [
    "df_front_cargas = pd.concat([front, cargas])\n",
    "\n",
    "cargas_nighttime_cons = df_front_cargas[df_front_cargas[\"hour\"].isin(cfg.NIGHT_HOURS)].copy()\n",
    "cargas_nighttime_cons = pro.datetime_attributes(cargas_nighttime_cons)\n",
    "\n",
    "cargas_daily_nighttime_cons = (\n",
    "    cargas_nighttime_cons\n",
    "    .groupby(['variable','day'])['value']\n",
    "    .sum()\n",
    "    .to_frame()\n",
    ")"
   ]
  },
  {
   "cell_type": "code",
   "execution_count": 89,
   "metadata": {},
   "outputs": [],
   "source": [
    "cargas_nighttime_cons_x2 = cargas_nighttime_cons.groupby(by=[\"variable\",'device_name']).resample('1M').sum().reset_index().set_index('datetime')\n",
    "cargas_nighttime_cons_x2 = pro.datetime_attributes(cargas_nighttime_cons_x2)\n",
    "\n",
    "cargas_nighttime_cons_x2 = cargas_nighttime_cons_x2.loc[:,(\"variable\",\"device_name\",\"value\",\"month\")]\n",
    "cargas_nighttime_cons_x2['value'] = cargas_nighttime_cons_x2['value'].round(2) \n"
   ]
  },
  {
   "cell_type": "code",
   "execution_count": 94,
   "metadata": {},
   "outputs": [],
   "source": [
    "front_month_x2.to_clipboard()\n",
    "#cargas_nighttime_cons_x2.to_clipboard()"
   ]
  }
 ],
 "metadata": {
  "kernelspec": {
   "display_name": "nuevo2-env",
   "language": "python",
   "name": "python3"
  },
  "language_info": {
   "codemirror_mode": {
    "name": "ipython",
    "version": 3
   },
   "file_extension": ".py",
   "mimetype": "text/x-python",
   "name": "python",
   "nbconvert_exporter": "python",
   "pygments_lexer": "ipython3",
   "version": "3.9.16"
  }
 },
 "nbformat": 4,
 "nbformat_minor": 2
}
