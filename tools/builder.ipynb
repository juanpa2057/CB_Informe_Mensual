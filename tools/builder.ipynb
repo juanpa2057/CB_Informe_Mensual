{
 "cells": [
  {
   "cell_type": "code",
   "execution_count": 1,
   "metadata": {},
   "outputs": [],
   "source": [
    "# this cell enables relative path imports\n",
    "import os\n",
    "from dotenv import load_dotenv\n",
    "load_dotenv()\n",
    "_PROJECT_PATH: str = os.environ[\"_project_path\"]\n",
    "_PICKLED_DATA_FILENAME: str = os.environ[\"_pickled_data_filename\"]\n",
    "\n",
    "import sys\n",
    "from pathlib import Path\n",
    "project_path = Path(_PROJECT_PATH)\n",
    "sys.path.append(str(project_path))"
   ]
  },
  {
   "cell_type": "code",
   "execution_count": 2,
   "metadata": {},
   "outputs": [],
   "source": [
    "# import all your modules here\n",
    "import pandas as pd\n",
    "import nbformat as nbf\n",
    "\n",
    "import config_v2 as cfg\n",
    "from library_report_v2 import Processing as pro"
   ]
  },
  {
   "cell_type": "code",
   "execution_count": 3,
   "metadata": {},
   "outputs": [],
   "source": [
    "# this is where you specify the blueprint notebook to be replicated\n",
    "blueprint_filepath = project_path / 'tools' / 'modelo_tipo_mensual.ipynb'\n",
    "nb_blueprint = nbf.read(blueprint_filepath, as_version=4)"
   ]
  },
  {
   "cell_type": "code",
   "execution_count": 4,
   "metadata": {},
   "outputs": [],
   "source": [
    "#df = pd.read_pickle(project_path / 'data' / _PICKLED_DATA_FILENAME)\n",
    "df = pd.read_pickle(r\"C:\\Proyectos Digitalización\\Bancolombia\\CB_informes_Ubi\\Informe_semanal_v2\\data\\data_weekly_report.pkl\")\n",
    "df_bl, df_st = pro.split_into_baseline_and_study(df, baseline=cfg.BASELINE, study=cfg.STUDY, inclusive='both')\n",
    "set_devices = set(df['device_name'])"
   ]
  },
  {
   "cell_type": "code",
   "execution_count": 5,
   "metadata": {},
   "outputs": [],
   "source": [
    "# We only want to create notebooks for offices with data in both the baseline and study periods.\n",
    "\n",
    "#df = pd.read_pickle(project_path / 'data' / _PICKLED_DATA_FILENAME)\n",
    "#df_bl, df_st = pro.split_into_baseline_and_study(df, baseline=cfg.BASELINE, study=cfg.STUDY, inclusive='both')\n",
    "\n",
    "# we don't need this data anymore and it might be very large\n",
    "# df = None\n",
    "\n",
    "# To find the offices with data in both periods\n",
    "# we can take the intersection of the sets\n",
    "# set_devices_bl = set(df_bl['device_name'])\n",
    "# set_devices_st = set(df_st['device_name'])\n",
    "\n",
    "# set_devices = set_devices_bl.intersection(set_devices_st)\n",
    "\n",
    "set_devices = set(df['device_name'])\n",
    "\n",
    "# We would like to sort the offices in the same order as\n",
    "# in Ubidots.\n",
    "df_notebooks = pd.DataFrame(set_devices, columns=['device'])\n",
    "\n",
    "# A dash always splits the number and the name. We take the\n",
    "# first part.\n",
    "df_notebooks['code'] = df_notebooks['device'].str.split('-',expand=True)[0]\n",
    "\n",
    "# stripping \"BC \" leaves only the number\n",
    "df_notebooks['number'] = df_notebooks['code'].str.strip('BC ')\n",
    "\n",
    "# we then coerce to numeric\n",
    "df_notebooks['number'] = pd.to_numeric(df_notebooks['number'], errors='coerce')\n",
    "\n",
    "# finally we sort and make a list to iterate over\n",
    "df_notebooks = df_notebooks.sort_values(by='number')\n",
    "sorted_devices = list(df_notebooks['device'])"
   ]
  },
  {
   "cell_type": "code",
   "execution_count": 6,
   "metadata": {},
   "outputs": [
    {
     "name": "stdout",
     "output_type": "stream",
     "text": [
      "  - file: notebooks/individual/Notebook BC 044 - Piedecuesta\n",
      "  - file: notebooks/individual/Notebook BC 061 - Carrera Primera\n",
      "  - file: notebooks/individual/Notebook BC 66 - Palmira\n",
      "  - file: notebooks/individual/Notebook BC 78 - El Cacique\n",
      "  - file: notebooks/individual/Notebook BC 88 - Cúcuta\n",
      "  - file: notebooks/individual/Notebook BC 90 - Megamall\n",
      "  - file: notebooks/individual/Notebook BC 185 - Llano Grande Palmira\n",
      "  - file: notebooks/individual/Notebook BC 197 - Guatapuri\n",
      "  - file: notebooks/individual/Notebook BC 205 - Villa Colombia\n",
      "  - file: notebooks/individual/Notebook BC 210 - Banca Colombia Cartagena\n",
      "  - file: notebooks/individual/Notebook BC 216 - Sabana de Torres\n",
      "  - file: notebooks/individual/Notebook BC 253 - Puerta del Norte\n",
      "  - file: notebooks/individual/Notebook BC 291 - Las Palmas\n",
      "  - file: notebooks/individual/Notebook BC 302 - Quebrada Seca\n",
      "  - file: notebooks/individual/Notebook BC 306 - Barrancabermeja\n",
      "  - file: notebooks/individual/Notebook BC 311 - Bello\n",
      "  - file: notebooks/individual/Notebook BC 371 - Caucasia\n",
      "  - file: notebooks/individual/Notebook BC 398 - Mariquita\n",
      "  - file: notebooks/individual/Notebook BC 424 - Honda\n",
      "  - file: notebooks/individual/Notebook BC 453 - Pitalito\n",
      "  - file: notebooks/individual/Notebook BC 454 - Quinta Avenida 2\n",
      "  - file: notebooks/individual/Notebook BC 459 - Campo Alegre\n",
      "  - file: notebooks/individual/Notebook BC 495 - El Bosque\n",
      "  - file: notebooks/individual/Notebook BC 496 - Iwanna\n",
      "  - file: notebooks/individual/Notebook BC 514 - Centro Comercial Único\n",
      "  - file: notebooks/individual/Notebook BC 523 - Olímpica\n",
      "  - file: notebooks/individual/Notebook BC 524 - S.A. Valledupar\n",
      "  - file: notebooks/individual/Notebook BC 534 - Buganviles\n",
      "  - file: notebooks/individual/Notebook BC 613 - La America\n",
      "  - file: notebooks/individual/Notebook BC 656 - Mayales\n",
      "  - file: notebooks/individual/Notebook BC 659 - Girardot\n",
      "  - file: notebooks/individual/Notebook BC 678 - Paseo de la Castellana\n",
      "  - file: notebooks/individual/Notebook BC 705 - El Bagre\n",
      "  - file: notebooks/individual/Notebook BC 749 - Santa Monica\n",
      "  - file: notebooks/individual/Notebook BC 750 - Roosevelt\n",
      "  - file: notebooks/individual/Notebook BC 764 - Jamundí\n",
      "  - file: notebooks/individual/Notebook BC 776 - Lebrija\n",
      "  - file: notebooks/individual/Notebook BC 784 - Centro Colon\n",
      "  - file: notebooks/individual/Notebook BC 787 - Bocagrande Carrera Tercera\n",
      "  - file: notebooks/individual/Notebook BC 789 - Manga\n",
      "  - file: notebooks/individual/Notebook BC 792 - Paseo del comercio\n",
      "  - file: notebooks/individual/Notebook BC 793 - Profesionales\n",
      "  - file: notebooks/individual/Notebook BC 796 - Girón\n",
      "  - file: notebooks/individual/Notebook BC 799 - Floridablanca\n",
      "  - file: notebooks/individual/Notebook BC 816 - Calle 10\n",
      "  - file: notebooks/individual/Notebook BC 824 - Ventura Plaza\n",
      "  - file: notebooks/individual/Notebook BC 825 - Astrocentro\n",
      "  - file: notebooks/individual/Notebook BC 829 - Unicentro Cali\n",
      "  - file: notebooks/individual/Notebook BC 834 - San Mateo\n",
      "  - file: notebooks/individual/Notebook BC 863 - Los Patios\n",
      "  - file: notebooks/individual/Notebook BC 821 GRANADA CALI\n"
     ]
    }
   ],
   "source": [
    "# We want to iterate over the office names\n",
    "# and save a copy of the blueprint notebook\n",
    "# for every office.\n",
    "\n",
    "for device_name in sorted_devices:\n",
    "    # extract the blueprint cells\n",
    "    nb = nb_blueprint.copy()\n",
    "    nb_cells = nb['cells']\n",
    "\n",
    "    # rename the target notebook header cell\n",
    "    cell_0 = nb_cells[0]\n",
    "    cell_0['source'] = f'# {device_name}'\n",
    "\n",
    "    # Format the first code cell (always the second cell)\n",
    "    # which contains the device_name used to filter the data.\n",
    "    # Also suppress warnings since this is client-side.\n",
    "    cell_1 = nb_cells[1]\n",
    "    cell_1['source'] = f'DEVICE_NAME = \\'{device_name}\\'\\nimport warnings\\nwarnings.filterwarnings(\"ignore\")'\n",
    "\n",
    "    # Combine the office-specific cells with the\n",
    "    # body of the notebook.\n",
    "    cell_rest = nb_cells[2:]\n",
    "    new_cells = [cell_0] + [cell_1] + cell_rest\n",
    "    nb['cells'] = new_cells\n",
    "\n",
    "    # store the replicated notebook\n",
    "    filename = f\"Notebook {device_name}\"\n",
    "    write_path = project_path/'main'/'notebooks'/'individual'/f\"{filename}.ipynb\"\n",
    "    nbf.write(nb, write_path)\n",
    "\n",
    "    # print a chapter file line for the table-of-contents (_toc.yml)\n",
    "    print(f\"  - file: notebooks/individual/{filename}\")\n"
   ]
  }
 ],
 "metadata": {
  "kernelspec": {
   "display_name": "nuevo2-env",
   "language": "python",
   "name": "python3"
  },
  "language_info": {
   "codemirror_mode": {
    "name": "ipython",
    "version": 3
   },
   "file_extension": ".py",
   "mimetype": "text/x-python",
   "name": "python",
   "nbconvert_exporter": "python",
   "pygments_lexer": "ipython3",
   "version": "3.9.16"
  },
  "orig_nbformat": 4,
  "vscode": {
   "interpreter": {
    "hash": "a3ed1408207adb65ea76cc73f6a4a844ab927e5dee5cd8790bd3d1eac84bb653"
   }
  }
 },
 "nbformat": 4,
 "nbformat_minor": 2
}
