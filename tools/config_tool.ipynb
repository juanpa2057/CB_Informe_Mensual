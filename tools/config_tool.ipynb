{
 "cells": [
  {
   "cell_type": "code",
   "execution_count": 1,
   "metadata": {},
   "outputs": [],
   "source": [
    "# device = 'K0303'\n",
    "# active_power_variable = 'active_power'\n",
    "path_base_r_string = r'/Users/juancarlosgonzalez/Documents/GitHub'\n",
    "\n",
    "%load_ext autoreload\n",
    "%autoreload 2\n",
    "import warnings\n",
    "# warnings.filterwarnings(\"ignore\")"
   ]
  },
  {
   "cell_type": "code",
   "execution_count": 2,
   "metadata": {},
   "outputs": [],
   "source": [
    "# this cell enables project path relative imports\n",
    "import sys\n",
    "from pathlib import Path\n",
    "path_base = Path(path_base_r_string)\n",
    "project_path = path_base / 'CB_Informe_Mensual' \n",
    "sys.path.append(str(project_path))"
   ]
  },
  {
   "cell_type": "code",
   "execution_count": 7,
   "metadata": {},
   "outputs": [],
   "source": [
    "# import all your modules here\n",
    "import json\n",
    "import pandas as pd\n",
    "import config as cfg\n",
    "import library_report as Report"
   ]
  },
  {
   "cell_type": "code",
   "execution_count": 8,
   "metadata": {},
   "outputs": [
    {
     "ename": "AttributeError",
     "evalue": "module 'library_report_v2' has no attribute 'get_available_devices'",
     "output_type": "error",
     "traceback": [
      "\u001b[0;31m---------------------------------------------------------------------------\u001b[0m",
      "\u001b[0;31mAttributeError\u001b[0m                            Traceback (most recent call last)",
      "\u001b[0;32m/var/folders/br/__n9tzz53dqdxn0vpyzdg5840000gn/T/ipykernel_21872/133427404.py\u001b[0m in \u001b[0;36m<module>\u001b[0;34m\u001b[0m\n\u001b[0;32m----> 1\u001b[0;31m \u001b[0mdf_devices\u001b[0m \u001b[0;34m=\u001b[0m \u001b[0mReport\u001b[0m\u001b[0;34m.\u001b[0m\u001b[0mget_available_devices\u001b[0m\u001b[0;34m(\u001b[0m\u001b[0;34m\"bancolombia\"\u001b[0m\u001b[0;34m)\u001b[0m\u001b[0;34m\u001b[0m\u001b[0;34m\u001b[0m\u001b[0m\n\u001b[0m\u001b[1;32m      2\u001b[0m \u001b[0;31m# df_devices = pd.read_excel(\"devices.xlsx\")\u001b[0m\u001b[0;34m\u001b[0m\u001b[0;34m\u001b[0m\u001b[0m\n\u001b[1;32m      3\u001b[0m \u001b[0;34m\u001b[0m\u001b[0m\n\u001b[1;32m      4\u001b[0m \u001b[0;34m\u001b[0m\u001b[0m\n\u001b[1;32m      5\u001b[0m \u001b[0mdevice_id_to_label\u001b[0m \u001b[0;34m=\u001b[0m \u001b[0mdf_devices\u001b[0m\u001b[0;34m.\u001b[0m\u001b[0mset_index\u001b[0m\u001b[0;34m(\u001b[0m\u001b[0;34m'id'\u001b[0m\u001b[0;34m)\u001b[0m\u001b[0;34m[\u001b[0m\u001b[0;34m'label'\u001b[0m\u001b[0;34m]\u001b[0m\u001b[0;34m.\u001b[0m\u001b[0mto_dict\u001b[0m\u001b[0;34m(\u001b[0m\u001b[0;34m)\u001b[0m\u001b[0;34m\u001b[0m\u001b[0;34m\u001b[0m\u001b[0m\n",
      "\u001b[0;31mAttributeError\u001b[0m: module 'library_report_v2' has no attribute 'get_available_devices'"
     ]
    }
   ],
   "source": [
    "df_devices = Report.get_available_devices(\"bancolombia\")\n",
    "# df_devices = pd.read_excel(\"devices.xlsx\")\n",
    "\n",
    "\n",
    "device_id_to_label = df_devices.set_index('id')['label'].to_dict()\n",
    "LST_DEVICE_ID_TO_REQUEST = list(device_id_to_label.keys())\n",
    "\n",
    "print(\"Available devices:\")\n",
    "print(json.dumps(device_id_to_label, sort_keys=True, indent=4))\n",
    "\n",
    "df_vars = Report.get_available_variables(LST_DEVICE_ID_TO_REQUEST)\n",
    "unique_variable_labels = list(df_vars.variable_label.unique())\n",
    "print(\"Available variables:\")\n",
    "print(json.dumps(unique_variable_labels, sort_keys=True, indent=4))"
   ]
  },
  {
   "cell_type": "code",
   "execution_count": null,
   "metadata": {},
   "outputs": [],
   "source": [
    "LST_DEVICE_ID_TO_REQUEST = list(dct_available_devices.keys())\n",
    "df_vars = Report.get_available_variables(LST_DEVICE_ID_TO_REQUEST)\n",
    "unique_variable_labels = list(df_vars.variable_label.unique())\n",
    "print(\"Available variables:\")\n",
    "print(json.dumps(unique_variable_labels, sort_keys=True, indent=4))"
   ]
  },
  {
   "cell_type": "code",
   "execution_count": null,
   "metadata": {},
   "outputs": [],
   "source": [
    "df_vars['device_label'] = df_vars['device_id'].map(dct_available_devices)\n",
    "df_vars.pivot(index='variable_label', columns='device_label', values='variable_id').transpose()"
   ]
  },
  {
   "cell_type": "code",
   "execution_count": null,
   "metadata": {},
   "outputs": [],
   "source": [
    "list(dct_available_devices.values())"
   ]
  },
  {
   "cell_type": "code",
   "execution_count": null,
   "metadata": {},
   "outputs": [],
   "source": []
  }
 ],
 "metadata": {
  "kernelspec": {
   "display_name": "Python 3.9.13 ('base')",
   "language": "python",
   "name": "python3"
  },
  "language_info": {
   "codemirror_mode": {
    "name": "ipython",
    "version": 3
   },
   "file_extension": ".py",
   "mimetype": "text/x-python",
   "name": "python",
   "nbconvert_exporter": "python",
   "pygments_lexer": "ipython3",
   "version": "3.9.13"
  },
  "orig_nbformat": 4,
  "vscode": {
   "interpreter": {
    "hash": "45d5d326b055c61006c27c3fac6810ffc406819e8c47f0e67c9c1a4290893751"
   }
  }
 },
 "nbformat": 4,
 "nbformat_minor": 2
}
