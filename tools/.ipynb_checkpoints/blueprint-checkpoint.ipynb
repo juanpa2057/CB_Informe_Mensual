{
 "cells": [
  {
   "cell_type": "markdown",
   "metadata": {},
   "source": [
    "# Código del dispositivo\n",
    "Descripción del dispositivo"
   ]
  },
  {
   "cell_type": "code",
   "execution_count": null,
   "metadata": {
    "tags": [
     "remove-cell"
    ]
   },
   "outputs": [],
   "source": [
    "device = 'K0303'\n",
    "active_power_variable = 'active_power'\n",
    "path_base_r_string = r'D:\\OneDrive - CELSIA S.A E.S.P'\n",
    "\n",
    "%load_ext autoreload\n",
    "%autoreload 2\n",
    "import warnings\n",
    "# warnings.filterwarnings(\"ignore\")"
   ]
  },
  {
   "cell_type": "code",
   "execution_count": null,
   "metadata": {
    "tags": [
     "remove-cell"
    ]
   },
   "outputs": [],
   "source": [
    "import pandas as pd\n",
    "import datetime as dt\n",
    "import pytz\n",
    "\n",
    "import sys\n",
    "from pathlib import Path\n",
    "\n",
    "path_base = Path(path_base_r_string)\n",
    "project_path = path_base / 'Proyectos' / 'Eficiencia_Energetica' / 'Esenttia' / 'Reporte_2022_09_15'\n",
    "sys.path.append(str(project_path))\n",
    "\n",
    "import libraries.Esenttia_Library as Esenttia\n",
    "\n",
    "\n",
    "dct_dow = {\n",
    "    0: 'lunes',\n",
    "    1: 'martes',\n",
    "    2: 'miércoles',\n",
    "    3: 'jueves',\n",
    "    4: 'viernes',\n",
    "    5: 'sábado',\n",
    "    6: 'domingo',\n",
    "}\n",
    "\n",
    "df = pd.read_pickle(project_path / 'data' / 'data_long_repaired.pkl')\n",
    "df = df.query(\"device == @device & variable == @active_power_variable\")\n",
    "\n",
    "description = df['description'][0]\n",
    "\n",
    "df['hour'] = df.index.hour\n",
    "df['day'] = df.index.day\n",
    "df['dow'] = df.index.dayofweek.map(dct_dow)\n",
    "df['cont_dow'] = (24 * df.index.dayofweek + df.index.hour) / 24\n",
    "df['week'] = df.index.isocalendar().week\n",
    "df['month'] = df.index.month\n",
    "df['year'] = df.index.year"
   ]
  },
  {
   "cell_type": "markdown",
   "metadata": {},
   "source": [
    "## Curvas Típicas"
   ]
  },
  {
   "cell_type": "code",
   "execution_count": null,
   "metadata": {
    "tags": [
     "remove-input"
    ]
   },
   "outputs": [],
   "source": [
    "df_day_by_hour = (\n",
    "    df\n",
    "    .reset_index()\n",
    "    # .query(\"variable == @active_power_variable\")\n",
    "    .groupby(['device','year','hour'])['value']\n",
    "    .agg(['median','mean','std','min',Esenttia.q_low,Esenttia.q_high,'max','count'])\n",
    "    .reset_index()\n",
    ")\n",
    "\n",
    "df_week_by_day = (\n",
    "    df\n",
    "    .reset_index()\n",
    "    # .query(\"variable == @active_power_variable\")\n",
    "    .groupby(['device','year','cont_dow'])['value']\n",
    "    .agg(['median','mean','std','min',Esenttia.q_low,Esenttia.q_high,'max','count'])\n",
    "    .reset_index()\n",
    ")\n",
    "\n",
    "df_year_by_week = (\n",
    "    df\n",
    "    .reset_index()\n",
    "    # .query(\"variable == @active_power_variable\")\n",
    "    .groupby(['device','year','week'])['value']\n",
    "    .agg(['median','mean','std','min',Esenttia.q_low,Esenttia.q_high,'max','count'])\n",
    "    .reset_index()\n",
    ")\n",
    "\n",
    "Esenttia.plot_typical_day_by_hour(df_day_by_hour, title=f\"Día típico para la carga {device} ({description})\", include_ci=False, fill_ci=True)\n",
    "Esenttia.plot_typical_week_by_day(df_week_by_day, title=f\"Semana típica para la carga {device} ({description})\", include_ci=False, fill_ci=True)\n",
    "Esenttia.plot_typical_year_by_week(df_year_by_week, title=f\"Año por semana para la carga {device} ({description})\", include_ci=False, fill_ci=True)"
   ]
  },
  {
   "cell_type": "markdown",
   "metadata": {
    "tags": []
   },
   "source": [
    "## Comportamiento actual:\n",
    "Últimas 4 semanas contra las 12 semanas previas."
   ]
  },
  {
   "cell_type": "code",
   "execution_count": null,
   "metadata": {
    "tags": [
     "remove-cell"
    ]
   },
   "outputs": [],
   "source": [
    "study_duration_days = 7*4\n",
    "baseline_duration_days = 7*12\n",
    "time_zone = pytz.timezone('America/Bogota')\n",
    "\n",
    "study_end_dt = dt.datetime.combine(df.index.date.max(), dt.datetime.min.time())\n",
    "study_end_dt = time_zone.localize(study_end_dt)\n",
    "study_start_dt = study_end_dt - dt.timedelta(days=study_duration_days)\n",
    "\n",
    "baseline_end_dt = study_start_dt\n",
    "baseline_start_dt = baseline_end_dt - dt.timedelta(days=baseline_duration_days)\n",
    "\n",
    "is_study_range = df.index.to_series().between(study_start_dt, study_end_dt, inclusive='left')\n",
    "is_baseline_range = df.index.to_series().between(baseline_start_dt, baseline_end_dt, inclusive='left')\n",
    "\n",
    "df_bl = df[is_baseline_range]\n",
    "df_st = df[is_study_range]"
   ]
  },
  {
   "cell_type": "code",
   "execution_count": null,
   "metadata": {
    "tags": [
     "remove-input"
    ]
   },
   "outputs": [],
   "source": [
    "df_st_day_by_hour = (\n",
    "    df_st\n",
    "    .reset_index()\n",
    "    # .query(\"variable == @active_power_variable\")\n",
    "    .groupby(['device','hour'])['value']\n",
    "    .agg(['median','mean','std','min',Esenttia.q_low,Esenttia.q_high,'max','count'])\n",
    "    .reset_index()\n",
    ")\n",
    "\n",
    "df_bl_day_by_hour = (\n",
    "    df_bl\n",
    "    .reset_index()\n",
    "    # .query(\"variable == @active_power_variable\")\n",
    "    .groupby(['device','hour'])['value']\n",
    "    .agg(['median','mean','std','min',Esenttia.q_low,Esenttia.q_high,'max','count'])\n",
    "    .reset_index()\n",
    ")\n",
    "\n",
    "df_st_week_by_day = (\n",
    "    df_st\n",
    "    .reset_index()\n",
    "    # .query(\"variable == @active_power_variable\")\n",
    "    .groupby(['device','cont_dow'])['value']\n",
    "    .agg(['median','mean','std','min',Esenttia.q_low,Esenttia.q_high,'max','count'])\n",
    "    .reset_index()\n",
    ")\n",
    "\n",
    "df_bl_week_by_day = (\n",
    "    df_bl\n",
    "    .reset_index()\n",
    "    # .query(\"variable == @active_power_variable\")\n",
    "    .groupby(['device','cont_dow'])['value']\n",
    "    .agg(['median','mean','std','min',Esenttia.q_low,Esenttia.q_high,'max','count'])\n",
    "    .reset_index()\n",
    ")\n",
    "\n",
    "Esenttia.compare_baseline_day_by_hour(df_bl_day_by_hour, df_st_day_by_hour, title=f\"Comparación de día típico para la carga {device} ({description})\", include_ci=True, fill_ci=True)\n",
    "Esenttia.compare_baseline_week_by_day(df_bl_week_by_day, df_st_week_by_day, title=f\"Comparación de semana típica para la carga {device} ({description})\", include_ci=True, fill_ci=True)"
   ]
  }
 ],
 "metadata": {
  "kernelspec": {
   "display_name": "Python 3 (ipykernel)",
   "language": "python",
   "name": "python3"
  },
  "language_info": {
   "codemirror_mode": {
    "name": "ipython",
    "version": 3
   },
   "file_extension": ".py",
   "mimetype": "text/x-python",
   "name": "python",
   "nbconvert_exporter": "python",
   "pygments_lexer": "ipython3",
   "version": "3.9.12"
  },
  "vscode": {
   "interpreter": {
    "hash": "3e8543986d11a7095dd1a708864c19914edc7f3db3f09d9443f7bd38b5a3c994"
   }
  }
 },
 "nbformat": 4,
 "nbformat_minor": 4
}
